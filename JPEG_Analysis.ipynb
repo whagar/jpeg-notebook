{
 "cells": [
  {
   "cell_type": "markdown",
   "id": "b75e4480-1409-4dd8-b8be-7c16ccd905a2",
   "metadata": {},
   "source": [
    "# JPEG Compression\n",
    "\n",
    "Image compression has been around almost as long images were first stored in digital mediums. As digital imaging technologies advanced, the volume of data continued to compete with available storage. This resulted in an ever-present need for methods to reduce the size of images while retaining key features. Utilizing the knowledge of human light sensitivity, compression techniques such as the JPEG standard have allowed images to maintain perceived clarity while requiring only a fraction of the storage space. An overview of the JPEG compression process flow can be described by the figure below.\n",
    "\n",
    "<br />\n",
    "\n",
    "![flowchart](./images/JPEG_flowchart.png)\n",
    "\n",
    "<br />\n",
    "\n",
    "This notebook aims to create and analyze a simple implementation of the compression pipeline. Characteristics of importance are computing efficiency and compression ratio."
   ]
  },
  {
   "cell_type": "markdown",
   "id": "8541c371",
   "metadata": {
    "tags": []
   },
   "source": [
    "## Converting RGB to YCbCr Format\n",
    "\n",
    "### Color Space Conversion\n",
    "\n",
    "The first step in compressing image data from a lossless format such as PNG or TIFF requires converting the colorspace of the data. This data is usually arranged in standard RGB format (after decompression). In this format, there are three channels that control the red, green, and blue values directly. The desired format, Y'CbCr, instead separates the brightness from the color. The **Y'** channel represents the pixel brightness, and the **Cb**/**Cr** channels represent the ratio of red-to-green and blue-to-green, respectively. A plot of the CbCr plane at a fixed luminance value, $Y'=0.5$, is show below."
   ]
  },
  {
   "cell_type": "code",
   "execution_count": 59,
   "id": "55d42aae",
   "metadata": {},
   "outputs": [
    {
     "data": {
      "image/png": "[encoded data removed]",
      "text/plain": [
       "<Figure size 432x288 with 1 Axes>"
      ]
     },
     "metadata": {
      "needs_background": "light"
     },
     "output_type": "display_data"
    }
   ],
   "source": [
    "from matplotlib import pyplot as plt\n",
    "import numpy as np\n",
    "import cv2\n",
    "\n",
    "# Using YCrCb instead for cv2 support\n",
    "yCrCbSpace = np.ndarray((225,225,3), dtype=np.uint8)\n",
    "chromaRange = np.arange(start=16, stop=241, dtype=np.uint8) # Chroma ranges from 16 to 240\n",
    "yCrCbSpace[:,:,0] = (235+16)//2 # Luminance ranges from 16 to 235\n",
    "yCrCbSpace[:,:,1] = chromaRange[:, np.newaxis]\n",
    "yCrCbSpace[:,:,2] = chromaRange[np.newaxis, :]\n",
    "\n",
    "rgbSpace = cv2.cvtColor(yCrCbSpace, cv2.COLOR_YCrCb2RGB)\n",
    "\n",
    "plt.imshow(rgbSpace)\n",
    "plt.title(\"CbCr plane at Y'=0.5\")\n",
    "plt.xlabel(\"Cb\")\n",
    "plt.ylabel(\"Cr\")\n",
    "plt.show()"
   ]
  },
  {
   "cell_type": "markdown",
   "id": "dcf20b9a-60db-4e9b-ac46-6c8aed4a9bf1",
   "metadata": {
    "tags": []
   },
   "source": [
    "The conversion from RGB to YCbCr is standardized according to the JPEG File Interchange Format. According to the ITU-R BT.601 standard (and adjusting for full luminance range), the digital components $D_{Y'}$, $D_{Cb}$, and $D_{Cr}$ can be estimated as follows\n",
    "\n",
    "$$\n",
    "D_{Y'} \\approx \\text{INT}\\left[\\frac{\\text{INT}[0.299 \\cdot 2^{m}]}{2^{m}}D_{R} + \\frac{\\text{INT}[0.587 \\cdot 2^{m}]}{2^{m}}D_{G} + \\frac{\\text{INT}[0.114 \\cdot 2^{m}]}{2^{m}}D_{B}\\right]\n",
    "$$\n",
    "$$\n",
    "D_{Cb} \\approx \\text{INT}\\left[\\frac{\\text{INT}\\left[-\\frac{0.299}{1.772} \\cdot \\frac{224}{219} \\cdot 2^{m}\\right]}{2^{m}}D_{R} + \\frac{\\text{INT}\\left[-\\frac{0.587}{1.772} \\cdot \\frac{224}{219} \\cdot 2^{m}\\right]}{2^{m}}D_{G} + \\frac{\\text{INT}\\left[\\frac{0.886}{1.772} \\cdot \\frac{224}{219} \\cdot 2^{m}\\right]}{2^{m}}D_{B} + 2^{n-1}\\right]\n",
    "$$\n",
    "$$\n",
    "D_{Cr} \\approx \\text{INT}\\left[\\frac{\\text{INT}\\left[\\frac{0.701}{1.402} \\cdot \\frac{224}{219} \\cdot 2^{m}\\right]}{2^{m}}D_{R} + \\frac{\\text{INT}\\left[-\\frac{0.587}{1.402} \\cdot \\frac{224}{219} \\cdot 2^{m}\\right]}{2^{m}}D_{G} + \\frac{\\text{INT}\\left[-\\frac{0.114}{1.402} \\cdot \\frac{224}{219} \\cdot 2^{m}\\right]}{2^{m}}D_{B} + 2^{n-1}\\right]\n",
    "$$\n",
    "\n",
    "where $m$ is the bit-length of the integer coefficients and $n$ is the bit-depth of the image data. As $m$ increases, the equation converges on the actual value of each component. "
   ]
  },
  {
   "cell_type": "code",
   "execution_count": 60,
   "id": "3a2eff55",
   "metadata": {},
   "outputs": [],
   "source": [
    "from ipywidgets import interact\n",
    "import ipywidgets as widgets\n",
    "\n",
    "def convertYCbCr(inputImage, m = 1):\n",
    "    \"\"\"Convert RGB image to Y'CbCr format\n",
    "\n",
    "    Parameters\n",
    "    ----------\n",
    "    inputImage : ndarray\n",
    "        3-dimensional RGB input image.\n",
    "    m : int\n",
    "        Bit-length of the conversion coefficients. If zero, calculate Y'CbCr values as floats.\n",
    "\n",
    "    Returns\n",
    "    -------\n",
    "    ndarray\n",
    "        Array of same dimensions as inputImage with Y'CbCr image data. If m is zero, this is\n",
    "        an array of type float, else it is an array of type uint8\n",
    "\n",
    "    \"\"\"\n",
    "    scale = int(2**m)\n",
    "    coeffY_R = 0.299 * scale\n",
    "    coeffY_G = 0.587 * scale\n",
    "    coeffY_B = 0.114 * scale\n",
    "    coeffCb_R = (-0.299/1.772) * (224/219) * scale\n",
    "    coeffCb_G = (-0.587/1.772) * (224/219) * scale\n",
    "    coeffCb_B = (0.886/1.772) * (224/219) * scale\n",
    "    coeffCr_R = (0.701/1.402) * (224/219) * scale\n",
    "    coeffCr_G = (-0.587/1.402) * (224/219) * scale\n",
    "    coeffCr_B = (-0.114/1.402) * (224/219) * scale\n",
    "    \n",
    "    convMat = np.array([[coeffY_R,  coeffY_G,  coeffY_B ],\n",
    "                        [coeffCb_R, coeffCb_G, coeffCb_B],\n",
    "                        [coeffCr_R, coeffCr_G, coeffCr_B]])\n",
    "    \n",
    "    if m != 0:\n",
    "        convMat = convMat.astype(int)\n",
    "    \n",
    "    # Multiply RGB values by Coefficients\n",
    "    tmpIm = np.einsum('ijk,hk->ijh', inputImage, convMat)\n",
    "    if m == 0:\n",
    "        return np.add(tmpIm, np.array([0, 128, 128]))\n",
    "    else:\n",
    "        # Divide by 2^m\n",
    "        np.right_shift(tmpIm, m, out=tmpIm)\n",
    "        # Add chroma offsets\n",
    "        return np.add(tmpIm, np.array([0, 128, 128])).astype(np.uint8)\n",
    "        "
   ]
  },
  {
   "cell_type": "code",
   "execution_count": 61,
   "id": "467ea1a1",
   "metadata": {
    "scrolled": true
   },
   "outputs": [
    {
     "data": {
      "application/vnd.jupyter.widget-view+json": {
       "model_id": "12a489c860644b40bc05f196a61bff36",
       "version_major": 2,
       "version_minor": 0
      },
      "text/plain": [
       "interactive(children=(IntSlider(value=8, description='bitLength', max=10, min=1), Output()), _dom_classes=('wi…"
      ]
     },
     "metadata": {},
     "output_type": "display_data"
    },
    {
     "data": {
      "text/plain": [
       "<function __main__.displayConverted(bitLength)>"
      ]
     },
     "execution_count": 61,
     "metadata": {},
     "output_type": "execute_result"
    }
   ],
   "source": [
    "im = cv2.cvtColor(cv2.imread(\"./images/misc/mandrill.tiff\"), cv2.COLOR_BGR2RGB)\n",
    "assert im.shape[2] == 3, \"Wrong number of image channels\"\n",
    "        \n",
    "def displayConverted(bitLength):\n",
    "    \"\"\"Display color converted image for coefficients of m bit-length\"\"\"\n",
    "    convIm = convertYCbCr(im, bitLength)\n",
    "    # Cannot display as YCbCr, so instead convert back to RGB\n",
    "    plt.imshow(cv2.cvtColor(convIm[:,:,[0,2,1]], cv2.COLOR_YCrCb2RGB))\n",
    "    plt.title(\"Image Converted to Y'CbCr\")\n",
    "    plt.show()\n",
    "\n",
    "interact(displayConverted, bitLength=widgets.IntSlider(min=1, max=10, step=1, value=8))"
   ]
  },
  {
   "cell_type": "code",
   "execution_count": 62,
   "id": "7ab5a18e-27ad-45dc-8254-e43078bfae07",
   "metadata": {},
   "outputs": [
    {
     "data": {
      "image/png": "[encoded data removed]",
      "text/plain": [
       "<Figure size 432x288 with 1 Axes>"
      ]
     },
     "metadata": {
      "needs_background": "light"
     },
     "output_type": "display_data"
    }
   ],
   "source": [
    "# Compute average difference from reference image across coefficient bit-lengths\n",
    "diffAvg = []\n",
    "floatIm = convertYCbCr(im, 0)\n",
    "for m in range(1,12):\n",
    "    convIm = convertYCbCr(im, m)\n",
    "    diffAvg.append(np.divide(np.sum(np.abs(np.subtract(floatIm, convIm))), im.size))\n",
    "    \n",
    "plt.plot(range(1,12), diffAvg)\n",
    "plt.title(\"Conversion Accuracy\")\n",
    "plt.xlabel(\"Coefficient bit-length\")\n",
    "plt.ylabel(\"Average component error\")\n",
    "plt.show()"
   ]
  },
  {
   "cell_type": "markdown",
   "id": "345eae87-07cf-4db1-90fb-0161e47cd0b6",
   "metadata": {},
   "source": [
    "### Chroma Subsampling\n",
    "\n",
    "Now that the brightness is has been separated into it's own component, the chromatic detail can be reduced independently. JPEG images traditionally use the Y'CbCr 4:2:0 subsampling rate. In the format, the chromatic components are subsampled in both the horizontal and vertical directions. This implementation will average neighboring chroma values to create interstitial subsamples."
   ]
  },
  {
   "cell_type": "markdown",
   "id": "01300ca2",
   "metadata": {},
   "source": [
    "## Discrete Cosine Transform\n",
    "\n",
    "The next step in the JPEG process involves utilizing the 2-dimensional Discrete Cosine Transform to represent the image data in the frequency domain. Since high-frequency changes in brightness are difficult to perceive, that portion of the image data can be significantly compressed without severe degradation. Typical JPEG implementations of the DCT consist of three steps:\n",
    "\n",
    "1. Splitting the image into 8x8 blocks\n",
    "2. Performing a type-II DCT on each block\n",
    "3. Quantizing the output\n",
    "\n",
    "### Block Splitting\n",
    "\n",
    "In order to balance compression rate versus processing time, the DCT is usually performed on 8x8 blocks. Since the chroma components are now subsampled, this no longer directly corresponds to a group of 8x8 pixels. To resolve this issue, the concept of a Minimum Coded Unit arises. An MCU contains the minimum amount of data necessary to recreate a group of pixels after encoding. An 8x8 block of chroma values contains color information for 16x16 pixels, so the MCU for Y'CbCr 4:2:0 would be 16x16. This MCU can be split into four quadrants of 8x8 luminance blocks. Combining the data from all four luminance quadrants and each chroma channel therefore provides enough information to reproduce 16x16 pixels.\n",
    "\n",
    "For the purposes of this project, the base array of Y'CbCr will be decomposed into a smaller array of MCUs organized with the $Y'$ quadrants first.\n",
    "\n",
    "<br />\n",
    "\n",
    "![block splitting](./images/Block_Splitting.png)\n",
    "\n",
    "<br />"
   ]
  },
  {
   "cell_type": "code",
   "execution_count": 63,
   "id": "c9f319ec",
   "metadata": {},
   "outputs": [],
   "source": [
    "def block420(inputImage):\n",
    "    \"\"\"Split image into 16x16 MCUs based on Y'CbCr 4:2:0 sampling\n",
    "    \n",
    "    Parameters\n",
    "    ----------\n",
    "    inputImage : ndarray\n",
    "        3-dimensional Y'CbCr input image.\n",
    "    \n",
    "    Returns\n",
    "    -------\n",
    "    ndarray\n",
    "        Multidimensional array of 16x16 MCUs arranged in Y'00, Y'01, Y'10, Y'11, Cb, Cr format\n",
    "    \"\"\"\n",
    "    \n",
    "    # Round up to 16, then divide by 16\n",
    "    outWidth = ((inputImage.shape[0] + 15) & ~15) >> 4\n",
    "    outHeight = ((inputImage.shape[1] + 15) & ~15) >> 4\n",
    "    \n",
    "    # Create output array\n",
    "    outMCU = np.ndarray((outWidth,outHeight,6,8,8), dtype=np.uint8)\n",
    "    \n",
    "    # Pad input image if necessary\n",
    "    if inputImage.shape[0] != (outWidth<<4) or inputImage.shape[1] != (outHeight<<4):\n",
    "        padWidth = (outWidth<<4) - inputImage.shape[0]\n",
    "        padHeight = (outHeight<<4) - inputImage.shape[1]\n",
    "        inputImage = np.pad(inputImage, ((0,padWidth),(0,padHeight),(0,0)), mode='edge')\n",
    "    \n",
    "    # Simple loop over each MCU\n",
    "    # TODO: optimize this\n",
    "    for i in range(0, outWidth):\n",
    "        for j in range(0, outHeight):\n",
    "            iMCU = i*16\n",
    "            jMCU = j*16\n",
    "            # Y'00\n",
    "            outMCU[i][j][0] = inputImage[iMCU:iMCU+8,jMCU:jMCU+8,0]\n",
    "            # Y'01\n",
    "            outMCU[i][j][1] = inputImage[iMCU:iMCU+8,jMCU+8:jMCU+16,0]\n",
    "            # Y'10\n",
    "            outMCU[i][j][2] = inputImage[iMCU+8:iMCU+16,jMCU:jMCU+8,0]\n",
    "            # Y'11\n",
    "            outMCU[i][j][3] = inputImage[iMCU+8:iMCU+16,jMCU+8:jMCU+16,0]\n",
    "            # Cb\n",
    "            outMCU[i][j][4] = ((inputImage[iMCU:iMCU+16:2,jMCU:jMCU+16:2,1]\n",
    "                               +inputImage[iMCU+1:iMCU+17:2,jMCU+1:jMCU+17:2,1])\n",
    "                              // 2)\n",
    "            # Cr\n",
    "            outMCU[i][j][5] = ((inputImage[iMCU:iMCU+16:2,jMCU:jMCU+16:2,1]\n",
    "                               +inputImage[iMCU+1:iMCU+17:2,jMCU+1:jMCU+17:2,1])\n",
    "                              // 2)\n",
    "    return outMCU\n",
    "    \n",
    "convIm = convertYCbCr(im, 8)\n",
    "blockIm = block420(convIm)"
   ]
  },
  {
   "cell_type": "markdown",
   "id": "93103eb2",
   "metadata": {},
   "source": [
    "### Type-II DCT\n",
    "\n",
    "Now that image data is arranged in 8x8 blocks, the values can be level-shifted into the [-128,127] range and the 8-point Type-II Discrete Cosine Transform can be applied to each block. The DCT functions similarly to the Discrete Fourier Transform in that it utilizes the sum of sinusoids to represent the input signal. However, the DCT only uses cosine elements in its Fourier Series. This has implications on the boundary conditions of the operation, which allows for faster convergence of the Fourier Series. In other words, the signal can be accurately represented in the frequency domain with fewer coefficients when compared to the DFT. The explicit boundary conditions of the DCT can be separated into eight \"types\". The most common of these, Type-II, implies the input signal, $x_n$, is even around $n=-1/2$ and $n=N-1/2$. The 2-dimensional Type-II DCT coefficients can be described with the following equation adapted from Eric Roberts' [Lossy JPEG](https://cs.stanford.edu/people/eroberts/courses/soco/projects/data-compression/lossy/jpeg/dct.htm) notes from Stanford University.\n",
    "\n",
    "$$\n",
    "G_{u,v} = \\frac{1}{\\sqrt{2N}}C(u)C(v)\\sum^{N-1}_{x=0}\\sum^{N-1}_{y=0}g_{x,y}\\cos\\left[\\frac{(2x+1)u\\pi}{2N}\\right]\\cos\\left[\\frac{(2y+1)v\\pi}{2N}\\right]\n",
    "$$\n",
    "$$\n",
    "C(x) = \\left\\{ \n",
    "  \\begin{array}{ c l }\n",
    "    \\frac{1}{\\sqrt{2}}, & \\: \\text{if } x = 1 \\\\\n",
    "    1,                 & \\: \\text{otherwise}\n",
    "  \\end{array}\n",
    "\\right.\n",
    "$$\n",
    "\n",
    "where $g_{x,y}$ is the pixel value at that index. The software implementation that follows does not make any of the optimizations used for the Fast Fourier Transform (i.e. matrix factorization into 2-point DFTs)."
   ]
  },
  {
   "cell_type": "code",
   "execution_count": 64,
   "id": "47a884b0",
   "metadata": {},
   "outputs": [],
   "source": [
    "# Create cosine look up table\n",
    "x = np.arange(0,8)\n",
    "uPi = np.pi * np.arange(0,8)\n",
    "cosLut = np.cos((2*x[:,np.newaxis]+1)*uPi[np.newaxis,:] / 16)\n",
    "\n",
    "coeff = np.ones((8,8))\n",
    "coeff[:,0] /= np.sqrt(2)\n",
    "coeff[0,:] /= np.sqrt(2)\n",
    "\n",
    "def type2dct(block):\n",
    "    \"\"\"Perform 8-point Type-II Discrete Cosine Transform on input\"\"\"\n",
    "    G = np.ndarray(block.shape, dtype=float)\n",
    "    for u in range(0,8):\n",
    "        for v in range(0,8):\n",
    "            # Create cosine matrix for fixed u,v\n",
    "            cosMat = np.outer(cosLut[:,u],cosLut[:,v]) # Dimensions of (x,y)\n",
    "            # Sum over x and y\n",
    "            G[u,v] = np.sum(block*cosMat)\n",
    "    G = (G*coeff) / 4\n",
    "    return G"
   ]
  },
  {
   "cell_type": "code",
   "execution_count": 65,
   "id": "2dbd019e",
   "metadata": {},
   "outputs": [],
   "source": [
    "from scipy.fft import dctn\n",
    "\n",
    "testBlock = blockIm[0,0,0,:,:].astype(int) - 128\n",
    "\n",
    "# Use Scipy DCT as comparison\n",
    "testOutput = dctn(testBlock, norm=\"ortho\", overwrite_x=True)\n",
    "\n",
    "dctOut = type2dct(testBlock)\n",
    "\n",
    "assert np.allclose(testOutput, dctOut)"
   ]
  },
  {
   "cell_type": "markdown",
   "id": "4033cb71",
   "metadata": {},
   "source": [
    "### TODO: Quantization\n",
    "\n",
    "Separate luminance/chrominance quantization tables as per Independent JPEG Group implementation at quality, $q = 50$. "
   ]
  },
  {
   "cell_type": "code",
   "execution_count": 66,
   "id": "b0ea9f88",
   "metadata": {},
   "outputs": [],
   "source": [
    "lumaQuantTbl = np.array([[16,  11,  10,  16,  24,  40,  51,  61],\n",
    "                         [12,  12,  14,  19,  26,  58,  60,  55],\n",
    "                         [14,  13,  16,  24,  40,  57,  69,  56],\n",
    "                         [14,  17,  22,  29,  51,  87,  80,  62],\n",
    "                         [18,  22,  37,  56,  68, 109, 103,  77],\n",
    "                         [24,  35,  55,  64,  81, 104, 113,  92],\n",
    "                         [49,  64,  78,  87, 103, 121, 120, 101],\n",
    "                         [72,  92,  95,  98, 112, 100, 103,  99]])\n",
    "\n",
    "chromaQuantTbl = np.array([[16,  18,  24,  47,  99,  99,  99,  99],\n",
    "                           [18,  21,  26,  66,  99,  99,  99,  99],\n",
    "                           [24,  26,  56,  99,  99,  99,  99,  99],\n",
    "                           [47,  66,  99,  99,  99,  99,  99,  99],\n",
    "                           [99,  99,  99,  99,  99,  99,  99,  99],\n",
    "                           [99,  99,  99,  99,  99,  99,  99,  99],\n",
    "                           [99,  99,  99,  99,  99,  99,  99,  99],\n",
    "                           [99,  99,  99,  99,  99,  99,  99,  99]])\n",
    "\n",
    "def scaleTblQuality(table, factor):\n",
    "    \"\"\"Scale Quantization table by quality factor\"\"\"\n",
    "    if factor <= 0:\n",
    "        factor = 1\n",
    "    if factor > 100:\n",
    "        factor = 100\n",
    "        \n",
    "    if factor < 50:\n",
    "        scale = 5000 / factor\n",
    "    else:\n",
    "        scale = 200 - factor*2\n",
    "    \n",
    "    scaledTbl = (table*scale + 50) // 100\n",
    "    scaledTbl[scaledTbl == 0] = 1\n",
    "    return scaledTbl"
   ]
  },
  {
   "cell_type": "code",
   "execution_count": 67,
   "id": "9889a89c",
   "metadata": {},
   "outputs": [
    {
     "data": {
      "application/vnd.jupyter.widget-view+json": {
       "model_id": "5c23c01313034a9a844c6ad051de15da",
       "version_major": 2,
       "version_minor": 0
      },
      "text/plain": [
       "interactive(children=(IntSlider(value=50, description='quality'), Output()), _dom_classes=('widget-interact',)…"
      ]
     },
     "metadata": {},
     "output_type": "display_data"
    },
    {
     "data": {
      "text/plain": [
       "<function __main__.displayQuantTbl(quality)>"
      ]
     },
     "execution_count": 67,
     "metadata": {},
     "output_type": "execute_result"
    }
   ],
   "source": [
    "def displayQuantTbl(quality):\n",
    "    print(scaleTblQuality(lumaQuantTbl,quality))\n",
    "\n",
    "interact(displayQuantTbl, quality=widgets.IntSlider(min=0, max=100, step=1, value=50))"
   ]
  },
  {
   "cell_type": "markdown",
   "id": "9fe99729",
   "metadata": {},
   "source": [
    "## TODO: Entropy Encoding\n",
    "\n",
    "This part of the compression process is lossless. The overall encoding process is as follows:\n",
    "\n",
    "1. Convert DC coefficients\n",
    "2. Traverse each block in zig-zag pattern\n",
    "3. Perform Run-Length and Huffman Encoding\n",
    "\n",
    "![Huffman](./images/Run_Length.png)"
   ]
  },
  {
   "cell_type": "code",
   "execution_count": 68,
   "id": "8ad650a7",
   "metadata": {},
   "outputs": [],
   "source": [
    "def zigZag(block):\n",
    "    \"\"\"Generator to traverse 2-dimensional array in a zig-zag pattern\"\"\"\n",
    "    idx = 0\n",
    "    x = 0\n",
    "    y = 0\n",
    "    topRight = True # Headed in direction towards top right\n",
    "    while idx < block.size:\n",
    "        yield block[x,y]\n",
    "        idx += 1\n",
    "        \n",
    "        if topRight:\n",
    "            if y == block.shape[1]-1:\n",
    "                x += 1\n",
    "                topRight = False\n",
    "            elif x == 0:\n",
    "                y += 1\n",
    "                topRight = False\n",
    "            else:\n",
    "                x -= 1\n",
    "                y += 1\n",
    "        else:\n",
    "            if x == block.shape[0]-1:\n",
    "                y += 1\n",
    "                topRight = True\n",
    "            elif y == 0:\n",
    "                x += 1\n",
    "                topRight = True\n",
    "            else:\n",
    "                y -= 1\n",
    "                x += 1"
   ]
  },
  {
   "cell_type": "code",
   "execution_count": 69,
   "id": "aa624ee6",
   "metadata": {},
   "outputs": [],
   "source": [
    "def encodeBlock(block, huffTbl):\n",
    "    \"\"\"Encode block values with Run-Length and Huffman Table\"\"\"\n",
    "    \n",
    "    encoded = bytearray() # This might need to be a bitstring\n",
    "    runLen = 0\n",
    "    size = 0\n",
    "    for amp in zigZag(block):\n",
    "        if amp == 0:\n",
    "            runLen += 1\n",
    "            if runLen == 16:\n",
    "                encoded.append(b'\\xF0') # Special encoding for run-length overflow\n",
    "                runLen = 0\n",
    "        else:\n",
    "            continue\n",
    "            # sym2 = huffTbl[amp]\n",
    "            # sym1 = (runLen << 4) + sym2.bit_length # Run-length and amplitude bit-length fit on one byte\n",
    "            # Append value in bits\n",
    "    encoded.append(b'\\x00\\x00') # End of block\n",
    "    return encoded"
   ]
  },
  {
   "cell_type": "code",
   "execution_count": 70,
   "id": "f2d15d84",
   "metadata": {},
   "outputs": [],
   "source": [
    "def encodeJPEG(inputImage, bitLength, quality):\n",
    "    \"\"\"Encode RGB image to JPEG\"\"\"\n",
    "    \n",
    "    # Convert from RGB to Y'CbCr\n",
    "    imYCbCr = convertYCbCr(inputImage, bitLength)\n",
    "    \n",
    "    # Chroma subsampling and 8x8 blocking\n",
    "    blockIm = block420(imYCbCr)\n",
    "    \n",
    "    # Process each 8x8 block\n",
    "    # Looping could possibly be handled by nditer\n",
    "    for i in range(blockIm.shape[0]):\n",
    "        for j in range(blockIm.shape[1]):\n",
    "            for k in range(blockIm.shape[2]):\n",
    "                # Type-II DCT\n",
    "                blockDct = type2dct(blockIm[i,j,k,:,:].astype(int) - 128)\n",
    "                \n",
    "                if k <= 3:\n",
    "                    table = lumaQuantTbl\n",
    "                else:\n",
    "                    table = chromaQuantTbl\n",
    "                    \n",
    "                # Quantize DCT output\n",
    "                scaledDct = np.rint(blockDct / scaleTblQuality(table, quality))\n",
    "                \n",
    "                # TODO: correlate DC coefficients\n",
    "                # TODO: perform zigzag run-length encoding on AC coefficients\n",
    "                # encodeBlock(scaledDct)\n",
    "                \n",
    "    # TODO: Should return JPEG filename"
   ]
  },
  {
   "cell_type": "code",
   "execution_count": 71,
   "id": "ab079cbe",
   "metadata": {},
   "outputs": [],
   "source": [
    "def interactEncode(filename, bitLength, quality):\n",
    "    im = cv2.cvtColor(cv2.imread(\"./images/misc/{}.tiff\".format(filename)), cv2.COLOR_BGR2RGB)\n",
    "    assert im.shape[2] == 3, \"Wrong number of image channels\"\n",
    "    \n",
    "    plt.imshow(im)\n",
    "    plt.title(\"Input Image\")\n",
    "    plt.show()\n",
    "    \n",
    "    encodeJPEG(im, bitLength, quality)\n",
    "    \n",
    "    # TODO: compare file size\n",
    "    # TODO: show JPEG"
   ]
  },
  {
   "cell_type": "code",
   "execution_count": 72,
   "id": "c0c57d05",
   "metadata": {},
   "outputs": [
    {
     "data": {
      "application/vnd.jupyter.widget-view+json": {
       "model_id": "4409c493e640454780234334d75a26f1",
       "version_major": 2,
       "version_minor": 0
      },
      "text/plain": [
       "interactive(children=(Dropdown(description='Image:', index=2, options=('airplane', 'house', 'mandrill', 'peppe…"
      ]
     },
     "metadata": {},
     "output_type": "display_data"
    },
    {
     "data": {
      "text/plain": [
       "<function __main__.interactEncode(filename, bitLength, quality)>"
      ]
     },
     "execution_count": 72,
     "metadata": {},
     "output_type": "execute_result"
    }
   ],
   "source": [
    "interact(interactEncode,\n",
    "         filename=widgets.Dropdown(options=['airplane', 'house', 'mandrill', 'peppers', 'sailboat', 'splash'],\n",
    "                                   value='mandrill',\n",
    "                                   description='Image:',\n",
    "                                   disabled=False,),\n",
    "         bitLength=widgets.IntSlider(min=1, max=10, step=1, value=8),\n",
    "         quality=widgets.IntSlider(min=0, max=100, step=1, value=50))"
   ]
  },
  {
   "cell_type": "code",
   "execution_count": null,
   "id": "e9b364a5",
   "metadata": {},
   "outputs": [],
   "source": []
  }
 ],
 "metadata": {
  "kernelspec": {
   "display_name": "Python 3 (ipykernel)",
   "language": "python",
   "name": "python3"
  },
  "language_info": {
   "codemirror_mode": {
    "name": "ipython",
    "version": 3
   },
   "file_extension": ".py",
   "mimetype": "text/x-python",
   "name": "python",
   "nbconvert_exporter": "python",
   "pygments_lexer": "ipython3",
   "version": "3.10.2"
  }
 },
 "nbformat": 4,
 "nbformat_minor": 5
}
